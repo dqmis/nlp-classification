{
 "cells": [
  {
   "attachments": {},
   "cell_type": "markdown",
   "metadata": {},
   "source": [
    "# Amazon Reviews Classification Modelling using Logistic Regression and XGBoost\n",
    "```\n",
    "@inproceedings{marc_reviews,\n",
    "    title={The Multilingual Amazon Reviews Corpus},\n",
    "    author={Keung, Phillip and Lu, Yichao and Szarvas, György and Smith, Noah A.},\n",
    "    booktitle={Proceedings of the 2020 Conference on Empirical Methods in Natural Language Processing},\n",
    "    year={2020}\n",
    "}\n",
    "```"
   ]
  },
  {
   "cell_type": "code",
   "execution_count": 1,
   "metadata": {},
   "outputs": [],
   "source": [
    "import sys\n",
    "from typing import Callable"
   ]
  },
  {
   "cell_type": "code",
   "execution_count": 96,
   "metadata": {},
   "outputs": [],
   "source": [
    "sys.path.append(\"/Users/dqmis/github/nlp-classification/\")\n",
    "\n",
    "from src.review.data.dataset import load_dataset\n",
    "from src.review.models import baseline, ml_classifier\n",
    "from src.review.data.dataset import split_dataset\n",
    "from src.review import utils"
   ]
  },
  {
   "cell_type": "code",
   "execution_count": 14,
   "metadata": {},
   "outputs": [
    {
     "name": "stdout",
     "output_type": "stream",
     "text": [
      "The autoreload extension is already loaded. To reload it, use:\n",
      "  %reload_ext autoreload\n"
     ]
    }
   ],
   "source": [
    "%load_ext autoreload\n",
    "%autoreload 2"
   ]
  },
  {
   "cell_type": "code",
   "execution_count": 51,
   "metadata": {},
   "outputs": [
    {
     "name": "stderr",
     "output_type": "stream",
     "text": [
      "Found cached dataset amazon_reviews_multi (/Users/dqmis/.cache/huggingface/datasets/amazon_reviews_multi/default-18df3f9c3df27db5/1.0.0/724e94f4b0c6c405ce7e476a6c5ef4f87db30799ad49f765094cf9770e0f7609)\n"
     ]
    }
   ],
   "source": [
    "dataset_df = load_dataset(return_pandas=True, languages=[\"en\"], use_stars=False)"
   ]
  },
  {
   "cell_type": "code",
   "execution_count": 52,
   "metadata": {},
   "outputs": [
    {
     "data": {
      "text/html": [
       "<div>\n",
       "<style scoped>\n",
       "    .dataframe tbody tr th:only-of-type {\n",
       "        vertical-align: middle;\n",
       "    }\n",
       "\n",
       "    .dataframe tbody tr th {\n",
       "        vertical-align: top;\n",
       "    }\n",
       "\n",
       "    .dataframe thead th {\n",
       "        text-align: right;\n",
       "    }\n",
       "</style>\n",
       "<table border=\"1\" class=\"dataframe\">\n",
       "  <thead>\n",
       "    <tr style=\"text-align: right;\">\n",
       "      <th></th>\n",
       "      <th>review_body</th>\n",
       "      <th>language</th>\n",
       "      <th>label</th>\n",
       "    </tr>\n",
       "  </thead>\n",
       "  <tbody>\n",
       "    <tr>\n",
       "      <th>0</th>\n",
       "      <td>Arrived broken. Manufacturer defect. Two of th...</td>\n",
       "      <td>en</td>\n",
       "      <td>0.0</td>\n",
       "    </tr>\n",
       "    <tr>\n",
       "      <th>1</th>\n",
       "      <td>the cabinet dot were all detached from backing...</td>\n",
       "      <td>en</td>\n",
       "      <td>0.0</td>\n",
       "    </tr>\n",
       "    <tr>\n",
       "      <th>2</th>\n",
       "      <td>I received my first order of this product and ...</td>\n",
       "      <td>en</td>\n",
       "      <td>0.0</td>\n",
       "    </tr>\n",
       "    <tr>\n",
       "      <th>3</th>\n",
       "      <td>This product is a piece of shit. Do not buy. D...</td>\n",
       "      <td>en</td>\n",
       "      <td>0.0</td>\n",
       "    </tr>\n",
       "    <tr>\n",
       "      <th>4</th>\n",
       "      <td>went through 3 in one day doesn't fit correct ...</td>\n",
       "      <td>en</td>\n",
       "      <td>0.0</td>\n",
       "    </tr>\n",
       "    <tr>\n",
       "      <th>...</th>\n",
       "      <td>...</td>\n",
       "      <td>...</td>\n",
       "      <td>...</td>\n",
       "    </tr>\n",
       "    <tr>\n",
       "      <th>199995</th>\n",
       "      <td>Cute slippers, my MIL loved them.</td>\n",
       "      <td>en</td>\n",
       "      <td>1.0</td>\n",
       "    </tr>\n",
       "    <tr>\n",
       "      <th>199996</th>\n",
       "      <td>My 6 year old likes this and keeps him engaged...</td>\n",
       "      <td>en</td>\n",
       "      <td>1.0</td>\n",
       "    </tr>\n",
       "    <tr>\n",
       "      <th>199997</th>\n",
       "      <td>Replaced my battery with it. Works like new.</td>\n",
       "      <td>en</td>\n",
       "      <td>1.0</td>\n",
       "    </tr>\n",
       "    <tr>\n",
       "      <th>199998</th>\n",
       "      <td>I like them, holding up well.</td>\n",
       "      <td>en</td>\n",
       "      <td>1.0</td>\n",
       "    </tr>\n",
       "    <tr>\n",
       "      <th>199999</th>\n",
       "      <td>Very good for my village lights are bright I l...</td>\n",
       "      <td>en</td>\n",
       "      <td>1.0</td>\n",
       "    </tr>\n",
       "  </tbody>\n",
       "</table>\n",
       "<p>160000 rows × 3 columns</p>\n",
       "</div>"
      ],
      "text/plain": [
       "                                              review_body language  label\n",
       "0       Arrived broken. Manufacturer defect. Two of th...       en    0.0\n",
       "1       the cabinet dot were all detached from backing...       en    0.0\n",
       "2       I received my first order of this product and ...       en    0.0\n",
       "3       This product is a piece of shit. Do not buy. D...       en    0.0\n",
       "4       went through 3 in one day doesn't fit correct ...       en    0.0\n",
       "...                                                   ...      ...    ...\n",
       "199995                  Cute slippers, my MIL loved them.       en    1.0\n",
       "199996  My 6 year old likes this and keeps him engaged...       en    1.0\n",
       "199997       Replaced my battery with it. Works like new.       en    1.0\n",
       "199998                      I like them, holding up well.       en    1.0\n",
       "199999  Very good for my village lights are bright I l...       en    1.0\n",
       "\n",
       "[160000 rows x 3 columns]"
      ]
     },
     "execution_count": 52,
     "metadata": {},
     "output_type": "execute_result"
    }
   ],
   "source": [
    "dataset_df"
   ]
  },
  {
   "cell_type": "code",
   "execution_count": 53,
   "metadata": {},
   "outputs": [],
   "source": [
    "# Split into train and test\n",
    "train_df, val_df, test_df = split_dataset(dataset_df)"
   ]
  },
  {
   "cell_type": "code",
   "execution_count": 55,
   "metadata": {},
   "outputs": [
    {
     "data": {
      "text/html": [
       "<div>\n",
       "<style scoped>\n",
       "    .dataframe tbody tr th:only-of-type {\n",
       "        vertical-align: middle;\n",
       "    }\n",
       "\n",
       "    .dataframe tbody tr th {\n",
       "        vertical-align: top;\n",
       "    }\n",
       "\n",
       "    .dataframe thead th {\n",
       "        text-align: right;\n",
       "    }\n",
       "</style>\n",
       "<table border=\"1\" class=\"dataframe\">\n",
       "  <thead>\n",
       "    <tr style=\"text-align: right;\">\n",
       "      <th></th>\n",
       "      <th>review_body</th>\n",
       "      <th>language</th>\n",
       "      <th>label</th>\n",
       "    </tr>\n",
       "  </thead>\n",
       "  <tbody>\n",
       "    <tr>\n",
       "      <th>17047</th>\n",
       "      <td>I can’t go a song without my phone saying the ...</td>\n",
       "      <td>en</td>\n",
       "      <td>0.0</td>\n",
       "    </tr>\n",
       "    <tr>\n",
       "      <th>159950</th>\n",
       "      <td>I love that the box sorts 4 cash values, sorts...</td>\n",
       "      <td>en</td>\n",
       "      <td>1.0</td>\n",
       "    </tr>\n",
       "    <tr>\n",
       "      <th>23294</th>\n",
       "      <td>Had to return for refund minus shipping cost. ...</td>\n",
       "      <td>en</td>\n",
       "      <td>0.0</td>\n",
       "    </tr>\n",
       "    <tr>\n",
       "      <th>135704</th>\n",
       "      <td>I love the product material is strong and dura...</td>\n",
       "      <td>en</td>\n",
       "      <td>1.0</td>\n",
       "    </tr>\n",
       "    <tr>\n",
       "      <th>29929</th>\n",
       "      <td>Don't buy this product!!! After using these ca...</td>\n",
       "      <td>en</td>\n",
       "      <td>0.0</td>\n",
       "    </tr>\n",
       "    <tr>\n",
       "      <th>...</th>\n",
       "      <td>...</td>\n",
       "      <td>...</td>\n",
       "      <td>...</td>\n",
       "    </tr>\n",
       "    <tr>\n",
       "      <th>174028</th>\n",
       "      <td>I purchased this from Atoz merchant. At first ...</td>\n",
       "      <td>en</td>\n",
       "      <td>1.0</td>\n",
       "    </tr>\n",
       "    <tr>\n",
       "      <th>1885</th>\n",
       "      <td>Extremely cheap- worth $1-2 max. I will not pi...</td>\n",
       "      <td>en</td>\n",
       "      <td>0.0</td>\n",
       "    </tr>\n",
       "    <tr>\n",
       "      <th>60746</th>\n",
       "      <td>I love this blanket. Only problem is I was shi...</td>\n",
       "      <td>en</td>\n",
       "      <td>0.0</td>\n",
       "    </tr>\n",
       "    <tr>\n",
       "      <th>44421</th>\n",
       "      <td>These lights are really great in terms of outp...</td>\n",
       "      <td>en</td>\n",
       "      <td>0.0</td>\n",
       "    </tr>\n",
       "    <tr>\n",
       "      <th>198022</th>\n",
       "      <td>Now I'm really curious if people actually revi...</td>\n",
       "      <td>en</td>\n",
       "      <td>1.0</td>\n",
       "    </tr>\n",
       "  </tbody>\n",
       "</table>\n",
       "<p>115200 rows × 3 columns</p>\n",
       "</div>"
      ],
      "text/plain": [
       "                                              review_body language  label\n",
       "17047   I can’t go a song without my phone saying the ...       en    0.0\n",
       "159950  I love that the box sorts 4 cash values, sorts...       en    1.0\n",
       "23294   Had to return for refund minus shipping cost. ...       en    0.0\n",
       "135704  I love the product material is strong and dura...       en    1.0\n",
       "29929   Don't buy this product!!! After using these ca...       en    0.0\n",
       "...                                                   ...      ...    ...\n",
       "174028  I purchased this from Atoz merchant. At first ...       en    1.0\n",
       "1885    Extremely cheap- worth $1-2 max. I will not pi...       en    0.0\n",
       "60746   I love this blanket. Only problem is I was shi...       en    0.0\n",
       "44421   These lights are really great in terms of outp...       en    0.0\n",
       "198022  Now I'm really curious if people actually revi...       en    1.0\n",
       "\n",
       "[115200 rows x 3 columns]"
      ]
     },
     "execution_count": 55,
     "metadata": {},
     "output_type": "execute_result"
    }
   ],
   "source": [
    "train_df"
   ]
  },
  {
   "attachments": {},
   "cell_type": "markdown",
   "metadata": {},
   "source": [
    "Let's think about metric and the baseline. For metric we will be using F1 score to evaluate our model. For baseline we will be classifying text using top 10 most frequent words in each category."
   ]
  },
  {
   "cell_type": "code",
   "execution_count": 56,
   "metadata": {},
   "outputs": [],
   "source": [
    "# Get predictions of a baseline model\n",
    "\n",
    "true_values = test_df[\"label\"].values\n",
    "predictions = test_df[\"review_body\"].apply(baseline.classify).values"
   ]
  },
  {
   "cell_type": "code",
   "execution_count": 61,
   "metadata": {},
   "outputs": [
    {
     "data": {
      "text/html": [
       "<div>\n",
       "<style scoped>\n",
       "    .dataframe tbody tr th:only-of-type {\n",
       "        vertical-align: middle;\n",
       "    }\n",
       "\n",
       "    .dataframe tbody tr th {\n",
       "        vertical-align: top;\n",
       "    }\n",
       "\n",
       "    .dataframe thead th {\n",
       "        text-align: right;\n",
       "    }\n",
       "</style>\n",
       "<table border=\"1\" class=\"dataframe\">\n",
       "  <thead>\n",
       "    <tr style=\"text-align: right;\">\n",
       "      <th></th>\n",
       "      <th>review_body</th>\n",
       "      <th>language</th>\n",
       "    </tr>\n",
       "    <tr>\n",
       "      <th>label</th>\n",
       "      <th></th>\n",
       "      <th></th>\n",
       "    </tr>\n",
       "  </thead>\n",
       "  <tbody>\n",
       "    <tr>\n",
       "      <th>0.0</th>\n",
       "      <td>15874</td>\n",
       "      <td>15874</td>\n",
       "    </tr>\n",
       "    <tr>\n",
       "      <th>1.0</th>\n",
       "      <td>16126</td>\n",
       "      <td>16126</td>\n",
       "    </tr>\n",
       "  </tbody>\n",
       "</table>\n",
       "</div>"
      ],
      "text/plain": [
       "       review_body  language\n",
       "label                       \n",
       "0.0          15874     15874\n",
       "1.0          16126     16126"
      ]
     },
     "execution_count": 61,
     "metadata": {},
     "output_type": "execute_result"
    }
   ],
   "source": [
    "test_df.groupby(\"label\").count()"
   ]
  },
  {
   "cell_type": "code",
   "execution_count": 60,
   "metadata": {},
   "outputs": [
    {
     "name": "stdout",
     "output_type": "stream",
     "text": [
      "f1: 0.6114161360403259\n",
      "accuracy: 0.63315625\n",
      "classification_report:               precision    recall  f1-score   support\n",
      "\n",
      "         0.0       0.59      0.88      0.70     15874\n",
      "         1.0       0.76      0.39      0.52     16126\n",
      "\n",
      "    accuracy                           0.63     32000\n",
      "   macro avg       0.68      0.64      0.61     32000\n",
      "weighted avg       0.68      0.63      0.61     32000\n",
      "\n"
     ]
    }
   ],
   "source": [
    "# Calculate metrics\n",
    "\n",
    "utils.evaluate_model(true_values, predictions)\n",
    "for metric, value in utils.evaluate_model(true_values, predictions).items():\n",
    "    print(f\"{metric}: {value}\")"
   ]
  },
  {
   "attachments": {},
   "cell_type": "markdown",
   "metadata": {},
   "source": [
    "Let's train and evaluate logistic regression model."
   ]
  },
  {
   "cell_type": "code",
   "execution_count": 97,
   "metadata": {},
   "outputs": [
    {
     "name": "stderr",
     "output_type": "stream",
     "text": [
      "/Users/dqmis/github/nlp-classification/.venv/lib/python3.10/site-packages/sklearn/linear_model/_logistic.py:458: ConvergenceWarning: lbfgs failed to converge (status=1):\n",
      "STOP: TOTAL NO. of ITERATIONS REACHED LIMIT.\n",
      "\n",
      "Increase the number of iterations (max_iter) or scale the data as shown in:\n",
      "    https://scikit-learn.org/stable/modules/preprocessing.html\n",
      "Please also refer to the documentation for alternative solver options:\n",
      "    https://scikit-learn.org/stable/modules/linear_model.html#logistic-regression\n",
      "  n_iter_i = _check_optimize_result(\n"
     ]
    },
    {
     "name": "stdout",
     "output_type": "stream",
     "text": [
      "f1: 0.8575891938277138\n",
      "accuracy: 0.85759375\n",
      "classification_report:               precision    recall  f1-score   support\n",
      "\n",
      "         0.0       0.85      0.86      0.86     15874\n",
      "         1.0       0.86      0.86      0.86     16126\n",
      "\n",
      "    accuracy                           0.86     32000\n",
      "   macro avg       0.86      0.86      0.86     32000\n",
      "weighted avg       0.86      0.86      0.86     32000\n",
      "\n"
     ]
    }
   ],
   "source": [
    "# Logreg model\n",
    "model = ml_classifier.MlClassifier()\n",
    "model.fit(train_df[\"review_body\"].values, train_df[\"label\"].values)\n",
    "\n",
    "# Calculate metrics\n",
    "true_values = test_df[\"label\"].values\n",
    "predictions = model.predict(test_df[\"review_body\"].values)\n",
    "\n",
    "utils.evaluate_model(true_values, predictions)\n",
    "for metric, value in utils.evaluate_model(true_values, predictions).items():\n",
    "    print(f\"{metric}: {value}\")"
   ]
  },
  {
   "cell_type": "code",
   "execution_count": 98,
   "metadata": {},
   "outputs": [
    {
     "name": "stdout",
     "output_type": "stream",
     "text": [
      "f1: 0.8281298637526301\n",
      "accuracy: 0.8281875\n",
      "classification_report:               precision    recall  f1-score   support\n",
      "\n",
      "         0.0       0.81      0.85      0.83     15874\n",
      "         1.0       0.85      0.80      0.82     16126\n",
      "\n",
      "    accuracy                           0.83     32000\n",
      "   macro avg       0.83      0.83      0.83     32000\n",
      "weighted avg       0.83      0.83      0.83     32000\n",
      "\n"
     ]
    }
   ],
   "source": [
    "# XGBoost model\n",
    "model = ml_classifier.MlClassifier(classifier=\"xgboost\")\n",
    "model.fit(train_df[\"review_body\"].values, train_df[\"label\"].values)\n",
    "\n",
    "# Calculate metrics\n",
    "true_values = test_df[\"label\"].values\n",
    "predictions = model.predict(test_df[\"review_body\"].values)\n",
    "\n",
    "utils.evaluate_model(true_values, predictions)\n",
    "for metric, value in utils.evaluate_model(true_values, predictions).items():\n",
    "    print(f\"{metric}: {value}\")"
   ]
  },
  {
   "cell_type": "code",
   "execution_count": 99,
   "metadata": {},
   "outputs": [
    {
     "name": "stdout",
     "output_type": "stream",
     "text": [
      "f1: 0.8407200747630316\n",
      "accuracy: 0.840875\n",
      "classification_report:               precision    recall  f1-score   support\n",
      "\n",
      "         0.0       0.86      0.82      0.84     15874\n",
      "         1.0       0.83      0.87      0.85     16126\n",
      "\n",
      "    accuracy                           0.84     32000\n",
      "   macro avg       0.84      0.84      0.84     32000\n",
      "weighted avg       0.84      0.84      0.84     32000\n",
      "\n"
     ]
    }
   ],
   "source": [
    "# NB model\n",
    "model = ml_classifier.MlClassifier(classifier=\"nb\")\n",
    "model.fit(train_df[\"review_body\"].values, train_df[\"label\"].values)\n",
    "\n",
    "# Calculate metrics\n",
    "true_values = test_df[\"label\"].values\n",
    "predictions = model.predict(test_df[\"review_body\"].values)\n",
    "\n",
    "utils.evaluate_model(true_values, predictions)\n",
    "for metric, value in utils.evaluate_model(true_values, predictions).items():\n",
    "    print(f\"{metric}: {value}\")"
   ]
  }
 ],
 "metadata": {
  "kernelspec": {
   "display_name": ".venv",
   "language": "python",
   "name": "python3"
  },
  "language_info": {
   "codemirror_mode": {
    "name": "ipython",
    "version": 3
   },
   "file_extension": ".py",
   "mimetype": "text/x-python",
   "name": "python",
   "nbconvert_exporter": "python",
   "pygments_lexer": "ipython3",
   "version": "3.10.6"
  },
  "orig_nbformat": 4
 },
 "nbformat": 4,
 "nbformat_minor": 2
}
